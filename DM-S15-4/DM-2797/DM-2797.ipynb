{
 "metadata": {
  "name": "",
  "signature": "sha256:39147169d5f9ba92141be9a10a57415aa944d2d09275ac176f4a009f7e462d6f"
 },
 "nbformat": 3,
 "nbformat_minor": 0,
 "worksheets": [
  {
   "cells": [
    {
     "cell_type": "markdown",
     "metadata": {},
     "source": [
      "<a href=\"https://jira.lsstcorp.org/browse/DM-2797\">DM-2797</a> **Implement HSC improvements to Colorterm**\n",
      "\n",
      "I adopted changes to the Colorterm class from HSC:\n",
      "- Support multiple reference catalogs\n",
      "- Change the way color term data are stored and unpersisted. Originally each obs_* package with color term data had a library module containing that data and a config override file that read the data from the library module. The HSC change I adopted was to make colorterm data persistable as a Config, so the config override files contain the data and we eliminate the library modules. This is only intended as a short-term hack. In the long run we need to store this data like other calibration data, so we can support changes to filters and evolve our knowledge of the color terms, while still reproducing the values used for old runs.\n",
      "- Update the color term data in the only two obs packages I found that contain color term data: obs_cfht and obs_subaru.\n",
      "- Simplify the Colorterm class, based on HSC work: Colorterm describes a single color term, but formerly it also contained a class variable that was a dict of filter name: Colorterm instance. The collection of color term data has now moved to two new classes: ColortermDict (a dict of filterName: Colorterm) and ColortermLibrary (a dict of referenceCatalogName: ColortermDict). Users will rarely need to know about ColortermDict (beyond using it to specify color term data) because ColortermLibrary and Colorterm contain the methods necessary to apply a color term correction.\n",
      "- I also removed the \"reverse\" argument from Colorterm.transformXXX methods. Reverse transformation has never been supported; setting \"reverse\" True would simply result in a NotImplementedError exception. If and when we need the feature we can decide the best API for it. (This change was not present on HSC, but I received permission to add it.)\n",
      "\n",
      "From a user's perspective the result is:\n",
      "- Users who want color term corrections applied must specify a photoCatName in the PhotoCalTask config.\n",
      "- Users who write code to apply color term corrections must know about ColortermLibrary as well as Colorterm. The only affected code I know of is CalibrationTask (in pipe_tasks), which has been updated.\n",
      "- Colorterm.transformMagnitude and transformSource methods no longer take a band argument, because an instance of Colorterm only handles a single color term correction.\n",
      "- Authors of obs_* packages must specify color term data in a different way.\n",
      "\n",
      "Using configs to store color term data is intended to be a short-term solution. Once we solve the general problem of storing calibration data we plan to use that solution for color term data. Note that color term data has one important difference from other calibration data: color term data is relative to whatever camera was used to take our photometric calibration data. Thus it has an additional dimension that is not required for most calibration data. This difference should be kept in mind when designing our system for storing calibration data.\n",
      "\n",
      "The following code has been tested with pipe_tasks 10.1-9-g441ae3d\n",
      "\n",
      "Here is a demonstration of the Colorterm and ColortermLibrary classes"
     ]
    },
    {
     "cell_type": "code",
     "collapsed": false,
     "input": [
      "from lsst.pipe.tasks.colorterms import Colorterm, ColortermDict, ColortermLibrary, ColortermNotFoundError\n",
      "\n",
      "ctLib = ColortermLibrary(data={\n",
      "    \"ham*\": ColortermDict(data={\n",
      "        \"g\": Colorterm(primary=\"g\", secondary=\"r\", c0=-0.00928, c1=-0.0824),\n",
      "        \"r\": Colorterm(primary=\"r\", secondary=\"i\", c0=-0.00282, c1=-0.0498, c2=-0.0149),\n",
      "        \"i\": Colorterm(primary=\"i\", secondary=\"z\", c0=0.00186,  c1=-0.140,  c2=-0.0196),\n",
      "        \"z\": Colorterm(primary=\"z\", secondary=\"i\", c0=-4.03e-4, c1=0.0967,  c2=0.0210),\n",
      "    })\n",
      "})\n",
      "\n",
      "# ColortermLibrary.getColorterm supports glob expressions for the reference source name\n",
      "colorterm = ctLib.getColorterm(\"g\", photoCatName=\"hamamatsu\")\n",
      "assert colorterm.primary == \"g\"\n",
      "assert colorterm.secondary == \"r\"\n",
      "\n",
      "sources = (\n",
      "    {'r': 0.0, 'true_g': -0.00928, 'g': 0.0},\n",
      "    {'r': -1.0, 'true_g': -0.09168, 'g': 0.0},\n",
      ")\n",
      "\n",
      "# Colorterm.transformMags(primaryMag, secondaryMag) no longer has an initial \"band\" argument\n",
      "for src in sources:\n",
      "    assert colorterm.transformMags(src[colorterm.primary], src[colorterm.secondary]) == src[\"true_g\"]\n",
      "\n",
      "# Colorterm.transformSource(source) no longer has an initial \"band\" argument;\n",
      "# note that source is usually a source table record, but transformSource only requires\n",
      "# that it be a dict-like object with keys that match the primary and secondary filters of the Colorterm\n",
      "for src in sources:\n",
      "    assert colorterm.transformSource(src) == src[\"true_g\"]"
     ],
     "language": "python",
     "metadata": {},
     "outputs": [],
     "prompt_number": 1
    },
    {
     "cell_type": "markdown",
     "metadata": {},
     "source": [
      "Here is how data is specified in obs_ packages and how that data is loaded.\n",
      "\n",
      "The following data is in obs_cfht in config/colorterms.py:\n",
      "\n",
      "    \"\"\"Set color terms for MegaCam\"\"\"\n",
      "\n",
      "    from lsst.pipe.tasks.colorterms import Colorterm, ColortermDict\n",
      "\n",
      "    root.data = {\n",
      "        \"e2v\": ColortermDict(data={\n",
      "            \"u\": Colorterm(primary=\"u\", secondary=\"g\", c0=0.0, c1=-0.241),\n",
      "            \"g\": Colorterm(primary=\"g\", secondary=\"r\", c0=0.0, c1=-0.153),\n",
      "            \"r\": Colorterm(primary=\"r\", secondary=\"g\", c0=0.0, c1= 0.024),\n",
      "            \"i\": Colorterm(primary=\"i\", secondary=\"r\", c0=0.0, c1= 0.085),\n",
      "            \"z\": Colorterm(primary=\"z\", secondary=\"i\", c0=0.0, c1=-0.074),\n",
      "        }),\n",
      "    }\n",
      "\n",
      "To enable colorterm corrections in the ProcessCcd task, add the following lines to obs_cfht in config/processCcd.py:\n",
      "\n",
      "    root.calibrate.photocal.colorterms.load(os.path.join(cfhtConfigDir, 'colorterms.py'))\n",
      "    root.calibrate.photocal.photocatName = \"e2v\"\n",
      "    root.calibrate.photocal.applyColorTerms = True\n",
      "\n",
      "Notes:\n",
      "- The first line is already present in config/processCcd.py, but the other two are not, so colorterm corrections are not applied by default when running CFHT with ProcessCcdTask.\n",
      "- Setting applyColorTerms True is optional because the default value of None means apply colorterm corrections if data is available and a photocat name is specified, else silently do not. Nonetheless I suggest setting it True to avoid silent failures."
     ]
    },
    {
     "cell_type": "code",
     "collapsed": false,
     "input": [],
     "language": "python",
     "metadata": {},
     "outputs": []
    }
   ],
   "metadata": {}
  }
 ]
}