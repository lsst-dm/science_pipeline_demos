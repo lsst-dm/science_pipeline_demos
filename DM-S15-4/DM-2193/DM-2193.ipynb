{
 "metadata": {
  "name": "",
  "signature": "sha256:6c14a4f53cd3afaef2d7d61d59a4288ed1cab4ae9a626fadf707c04442176cab"
 },
 "nbformat": 3,
 "nbformat_minor": 0,
 "worksheets": [
  {
   "cells": [
    {
     "cell_type": "markdown",
     "metadata": {},
     "source": [
      "<a href=\"https://jira.lsstcorp.org/browse/DM-2193\">DM-2193</a> (and <a href=\"https://jira.lsstcorp.org/browse/RFC-28\">RFC-28</a>), Russell Owen\n",
      "\n",
      "Add unit test methods to compare various LSST classes, including Angle, Box, Point-like objects, Coord and Wcs.\n",
      "\n",
      "The intent is to make it easy to compare complex objects and to avoid common mistakes such forgetting to unwrap the difference between two angles. On failure, the resulting error message contains detailed information about the failure; in the case of WCS this includes the location and amount of the worst violation.\n",
      "\n",
      "The new methods on lsst.utils.tests.TestCase are:\n",
      "* assertAnglesNearlyEqual: compare lsst.afw.geom.Angle, ignoring differences in wrap\n",
      "* assertBoxesNearlyEqual: compare lsst.afw.geom.Box2D and Box2I\n",
      "* assertCoordsNearlyEqual: compare subclasses of lsst.afw.coord.Coord\n",
      "* assertPairsNearlyEqual: compare indexable pairs of numbers, including lsst.afw.geom.Point, Extent, lists and tuples\n",
      "* assertWcsNearlyEqualOverBBox: compare subclasses of lsst.afw.image.Wcs over a recangular pixel region\n",
      "\n",
      "Note that the focus is on comparing values, rather than data types. Thus:\n",
      "* One can test if a TAN-SIP WCS is a good model for another WCS, such as a DistortedTanWcs\n",
      "* Coords are tested to see if they describe the same point on the sky. Hence they are converted to a common coordinate system (ICRS) before measuring the separation.\n",
      "\n",
      "Comparison of image-like classes is still done using older free functions in lsst.afw.image.testUtils. Those functions should be updated to be like these new assertion methods, as per <a href=\"https://jira.lsstcorp.org/browse/DM-3105\">DM-3105</a>.\n",
      "\n",
      "This code has been tested with afw 10.1-26-g9124caf\n",
      "\n",
      "This code is a simplified version of the unit test tests/testTestMethod.py in afw."
     ]
    },
    {
     "cell_type": "code",
     "collapsed": false,
     "input": [
      "import math\n",
      "import unittest\n",
      "\n",
      "import lsst.utils.tests as utilsTests\n",
      "import lsst.daf.base as dafBase\n",
      "import lsst.afw.coord as afwCoord\n",
      "import lsst.afw.geom as afwGeom\n",
      "import lsst.afw.image as afwImage\n",
      "\n",
      "# one must subclass from lsst.utils.tests.TestCase to access the new assertions\n",
      "class TestTestUtils(utilsTests.TestCase):\n",
      "    \"\"\"Demonstrate test methods added to lsst.utils.tests.TestCase\n",
      "    \"\"\"\n",
      "    def testAssertAnglesNearlyEqual(self):\n",
      "        \"\"\"Demonstrate assertAnglesNearlyEqual\n",
      "        \"\"\"\n",
      "        ang0 = -75*afwGeom.degrees\n",
      "        self.assertAnglesNearlyEqual(\n",
      "            ang0,\n",
      "            ang0 + 0.01*afwGeom.arcseconds,\n",
      "            maxDiff = 0.010001*afwGeom.arcseconds,\n",
      "        )\n",
      "        self.assertRaises(AssertionError,\n",
      "            self.assertAnglesNearlyEqual,\n",
      "                ang0,\n",
      "                ang0 + 0.01*afwGeom.arcseconds,\n",
      "                maxDiff = 0.009999*afwGeom.arcseconds,\n",
      "        )\n",
      "\n",
      "    def testAssertBoxesNearlyEqual(self):\n",
      "        \"\"\"Demonstrate assertBoxesNearlyEqual\n",
      "        \"\"\"\n",
      "        min0 = afwGeom.Point2D(-1000.5, 5000.1)\n",
      "        extent0 = afwGeom.Extent2D(5432, 2342)\n",
      "        box0 = afwGeom.Box2D(min0, extent0)\n",
      "        self.assertBoxesNearlyEqual(box0, box0, maxDiff=1e-7)\n",
      "\n",
      "        deltaExtent = afwGeom.Extent2D(0.001, -0.001)\n",
      "        box1 = afwGeom.Box2D(box0.getMin() + deltaExtent, box0.getMax())\n",
      "        radDiff = math.hypot(*deltaExtent)\n",
      "        self.assertBoxesNearlyEqual(box0, box1, maxDiff=radDiff*1.00001)\n",
      "        self.assertRaises(AssertionError, self.assertBoxesNearlyEqual,\n",
      "            box0, box1, maxDiff=radDiff*0.99999)\n",
      "\n",
      "    def testAssertCoordsNearlyEqual(self):\n",
      "        \"\"\"Demonstrate assertCoordsNearlyEqual\n",
      "        \"\"\"\n",
      "        raDecDeg = (45*afwGeom.degrees, 35*afwGeom.degrees)\n",
      "        coord0 = afwCoord.IcrsCoord(*raDecDeg)\n",
      "        self.assertCoordsNearlyEqual(coord0, coord0, maxDiff=1e-7*afwGeom.arcseconds)\n",
      "\n",
      "        offAng = 70*afwGeom.degrees\n",
      "        offDist = 0.001*afwGeom.arcseconds\n",
      "        coord1 = coord0.toGalactic()\n",
      "        coord1.offset(offAng, offDist)\n",
      "        self.assertCoordsNearlyEqual(coord0, coord1, maxDiff=offDist*1.00001)\n",
      "        self.assertRaises(AssertionError,\n",
      "            self.assertCoordsNearlyEqual, coord0, coord1, maxDiff=offDist*0.99999)\n",
      "\n",
      "    def testAssertPairsNearlyEqual(self):\n",
      "        \"\"\"Demonstrate assertPairsNearlyEqual\n",
      "        \"\"\"\n",
      "        pair0 = (-5, 0.001)\n",
      "        self.assertPairsNearlyEqual(pair0, pair0, maxDiff=1e-7)\n",
      "\n",
      "        # type differences are ignored\n",
      "        self.assertPairsNearlyEqual(afwGeom.Point2D(*pair0), afwGeom.Extent2D(*pair0), maxDiff=1e-7)\n",
      "        \n",
      "        diff = (-0.01, 0.03)\n",
      "        pair1 = [pair0[i] + diff[i] for i in range(2)]\n",
      "        radialDiff = math.hypot(*diff)\n",
      "        self.assertPairsNearlyEqual(pair0, pair1, maxDiff=radialDiff+1e-7)\n",
      "        self.assertRaises(AssertionError,\n",
      "            self.assertPairsNearlyEqual,\n",
      "                pair0, pair1, maxDiff=radialDiff-1e-7)\n",
      "\n",
      "    def testAssertWcssNearlyEqualOverBBox(self):\n",
      "        \"\"\"Demonstrate assertWcsNearlyEqualOverBBox\n",
      "        \"\"\"\n",
      "        bbox = afwGeom.Box2I(afwGeom.Point2I(0, 0), afwGeom.Extent2I(3001, 3001))\n",
      "        ctrPix = afwGeom.Point2I(1500, 1500)\n",
      "        metadata = dafBase.PropertySet()\n",
      "        metadata.set(\"RADECSYS\", \"FK5\")\n",
      "        metadata.set(\"EQUINOX\", 2000.0)\n",
      "        metadata.set(\"CTYPE1\", \"RA---TAN\")\n",
      "        metadata.set(\"CTYPE2\", \"DEC--TAN\")\n",
      "        metadata.set(\"CUNIT1\", \"deg\")\n",
      "        metadata.set(\"CUNIT2\", \"deg\")\n",
      "        metadata.set(\"CRVAL1\", 215.5)\n",
      "        metadata.set(\"CRVAL2\",  53.0)\n",
      "        metadata.set(\"CRPIX1\", ctrPix[0] + 1)\n",
      "        metadata.set(\"CRPIX2\", ctrPix[1] + 1)\n",
      "        metadata.set(\"CD1_1\",  5.1e-05)\n",
      "        metadata.set(\"CD1_2\",  0.0)\n",
      "        metadata.set(\"CD2_2\", -5.1e-05)\n",
      "        metadata.set(\"CD2_1\",  0.0)\n",
      "        wcs0 = afwImage.cast_TanWcs(afwImage.makeWcs(metadata))\n",
      "        metadata.set(\"CRVAL2\",  53.000001) # tweak CRVAL2 for wcs1\n",
      "        wcs1 = afwImage.cast_TanWcs(afwImage.makeWcs(metadata))\n",
      "\n",
      "        # test separation both on the sky and on the image (in pixels)\n",
      "        self.assertWcsNearlyEqualOverBBox(wcs0, wcs0, bbox,\n",
      "            maxDiffSky=1e-7*afwGeom.arcseconds, maxDiffPix=1e-7)\n",
      "\n",
      "        self.assertRaises(AssertionError, self.assertWcsNearlyEqualOverBBox,\n",
      "            wcs0, wcs1, bbox, maxDiffSky=0.001*afwGeom.arcseconds)\n",
      "\n",
      "        self.assertRaises(AssertionError, self.assertWcsNearlyEqualOverBBox,\n",
      "            wcs0, wcs1, bbox, maxDiffPix=0.001)\n",
      "\n",
      "#-=-=-=-=-=-=-=-=-=-=-=-=-=-=-=-=-=-=-=-=-=-=-=-=-=-=-=-=-=-=-=-=-=-=-=-=-=-=-=-\n",
      "\n",
      "def suite():\n",
      "    \"\"\"Return a suite containing all the test cases in this module.\n",
      "    \"\"\"\n",
      "    utilsTests.init()\n",
      "\n",
      "    suites = []\n",
      "    suites += unittest.makeSuite(TestTestUtils)\n",
      "    suites += unittest.makeSuite(utilsTests.MemoryTestCase)\n",
      "\n",
      "    return unittest.TestSuite(suites)\n",
      "\n",
      "def run():\n",
      "    \"\"\"Run the tests\n",
      "    \"\"\"\n",
      "    utilsTests.run(suite(), False)\n",
      "\n",
      "run()"
     ],
     "language": "python",
     "metadata": {},
     "outputs": [
      {
       "output_type": "stream",
       "stream": "stderr",
       "text": [
        "."
       ]
      },
      {
       "output_type": "stream",
       "stream": "stderr",
       "text": [
        "."
       ]
      },
      {
       "output_type": "stream",
       "stream": "stderr",
       "text": [
        "."
       ]
      },
      {
       "output_type": "stream",
       "stream": "stderr",
       "text": [
        "."
       ]
      },
      {
       "output_type": "stream",
       "stream": "stderr",
       "text": [
        "."
       ]
      },
      {
       "output_type": "stream",
       "stream": "stderr",
       "text": [
        "."
       ]
      },
      {
       "output_type": "stream",
       "stream": "stderr",
       "text": [
        "\n",
        "----------------------------------------------------------------------\n",
        "Ran 6 tests in 0.035s\n",
        "\n",
        "OK\n"
       ]
      }
     ],
     "prompt_number": 1
    },
    {
     "cell_type": "code",
     "collapsed": false,
     "input": [],
     "language": "python",
     "metadata": {},
     "outputs": [],
     "prompt_number": 20
    },
    {
     "cell_type": "code",
     "collapsed": false,
     "input": [],
     "language": "python",
     "metadata": {},
     "outputs": []
    }
   ],
   "metadata": {}
  }
 ]
}