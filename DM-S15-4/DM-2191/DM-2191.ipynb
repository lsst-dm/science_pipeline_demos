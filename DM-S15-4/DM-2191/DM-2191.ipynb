{
 "cells": [
  {
   "cell_type": "markdown",
   "metadata": {},
   "source": [
    "#Define command line tasks for pre-ingest transformation\n",
    "\n",
    "* [DM-2191](https://jira.lsstcorp.org/browse/DM-2191), John Swinbank, 6 SPs.\n",
    "\n",
    "Issue description:\n",
    "\n",
    "> DM-1903 provided a command line task which would transform a src catalogue into calibrated form. Here, we build on that to provide command line tasks for all source catalogues which will need to be ingested; will include at least `deepCoadd_src`, `goodSeeingCoadd_src`, `chiSquaredCoadd_src`.\n",
    "\n",
    "This notebook has been checked to run against the release tagged `w_2015_26`.\n"
   ]
  },
  {
   "cell_type": "markdown",
   "metadata": {},
   "source": [
    "The idea here is that we start with a source catalogue containing the raw outputs of some measurement algorithm -- say, pixel position -- and we want to transform them to a calibrated form -- in this case, celestial position. In previous stories (DM-1903, DM-2192), we've defined things such that each measurement algorithm has a particular \"transformation\" from raw to calibrated form associated with it. That transformation can make use of the configuration of the measurement algorithm as well as WCS and photometric calibration information provided by the end user.\n",
    "\n",
    "Here, we provide a generic set of command line tasks which, for each `dataRef` in an input repository, reads a source catalogue and a `calexp`. The `Wcs` and `Calib` objects are retrieved from the latter, and used to transform the source catalogue to a calibrated form, which is written back to the repository.\n",
    "\n",
    "We will demonstrate this by transforming `src` records, this is very easy using the contents of `obs_test`. We'll use the following repository:"
   ]
  },
  {
   "cell_type": "code",
   "execution_count": 1,
   "metadata": {
    "collapsed": false
   },
   "outputs": [
    {
     "data": {
      "text/plain": [
       "'/Users/jds/Projects/Astronomy/LSST/stack/DarwinX86/obs_test/10.1-4-g461b62d+42/data/input'"
      ]
     },
     "execution_count": 1,
     "metadata": {},
     "output_type": "execute_result"
    }
   ],
   "source": [
    "import os.path\n",
    "import lsst.utils\n",
    "inputDir = os.path.join(lsst.utils.getPackageDir('obs_test'), \"data\", \"input\")\n",
    "inputDir"
   ]
  },
  {
   "cell_type": "markdown",
   "metadata": {},
   "source": [
    "We'll configure `ProcessCcd` task to store just some minimal information in our catalogue: "
   ]
  },
  {
   "cell_type": "code",
   "execution_count": 2,
   "metadata": {
    "collapsed": false
   },
   "outputs": [],
   "source": [
    "from lsst.pipe.tasks.processCcd import ProcessCcdTask, ProcessCcdConfig\n",
    "cfg = ProcessCcdConfig()\n",
    "cfg.measurement.value.slots.centroid = \"base_GaussianCentroid\"\n",
    "cfg.measurement.value.plugins = [\"base_GaussianCentroid\", \"base_SkyCoord\"]\n",
    "cfg.measurement.value.slots.shape = None\n",
    "cfg.measurement.value.slots.psfFlux = None\n",
    "cfg.measurement.value.slots.apFlux = None\n",
    "cfg.measurement.value.slots.instFlux = None\n",
    "cfg.measurement.value.slots.modelFlux = None"
   ]
  },
  {
   "cell_type": "markdown",
   "metadata": {},
   "source": [
    "We'll store the output from our measurement in a temporary directory, and remember to clean it up later."
   ]
  },
  {
   "cell_type": "code",
   "execution_count": 3,
   "metadata": {
    "collapsed": false
   },
   "outputs": [],
   "source": [
    "from tempfile import mkdtemp\n",
    "outputDir = mkdtemp()"
   ]
  },
  {
   "cell_type": "markdown",
   "metadata": {},
   "source": [
    "Now we can run the `ProcessCcd` task, pretending we're on the command line. Note that we ask for and capture the result, which includes the list of sources measured."
   ]
  },
  {
   "cell_type": "code",
   "execution_count": 4,
   "metadata": {
    "collapsed": false
   },
   "outputs": [
    {
     "data": {
      "text/plain": [
       "167"
      ]
     },
     "execution_count": 4,
     "metadata": {},
     "output_type": "execute_result"
    }
   ],
   "source": [
    "measResult = ProcessCcdTask.parseAndRun(args=[inputDir, \"--output\", outputDir, \"--id\", \"visit=1\"],\n",
    "                                        config=cfg, doReturnResults=True)\n",
    "len(measResult.resultList[0].result.sources)"
   ]
  },
  {
   "cell_type": "markdown",
   "metadata": {},
   "source": [
    "Even with the simple measurement configuration we chose, we end up with a lot of fields in the output table:"
   ]
  },
  {
   "cell_type": "code",
   "execution_count": 5,
   "metadata": {
    "collapsed": false
   },
   "outputs": [
    {
     "data": {
      "text/plain": [
       "('base_GaussianCentroid_flag',\n",
       " 'base_GaussianCentroid_flag_noPeak',\n",
       " 'base_GaussianCentroid_x',\n",
       " 'base_GaussianCentroid_y',\n",
       " 'calib_detected',\n",
       " 'calib_psfCandidate',\n",
       " 'calib_psfUsed',\n",
       " 'coord_dec',\n",
       " 'coord_ra',\n",
       " 'flags_negative',\n",
       " 'id',\n",
       " 'parent')"
      ]
     },
     "execution_count": 5,
     "metadata": {},
     "output_type": "execute_result"
    }
   ],
   "source": [
    "measResult.resultList[0].result.sources.getSchema().getNames()"
   ]
  },
  {
   "cell_type": "markdown",
   "metadata": {},
   "source": [
    "Let's take the results of that task and feed it into our transformation task. We can configure it to copy (\"pass through\") arbitrary fields from the measurement table in addition to performing the transformation itself. We'll just ask for a single field to be copied -- the source ID.\n",
    "\n",
    "Note that we point it at the temporary directory in which we stored the measurements. We also need to provide it with the type of the configuration of the measurement operation -- given that name, we can retrieve the configuration itself from the Butler."
   ]
  },
  {
   "cell_type": "code",
   "execution_count": 6,
   "metadata": {
    "collapsed": false
   },
   "outputs": [
    {
     "data": {
      "text/plain": [
       "167"
      ]
     },
     "execution_count": 6,
     "metadata": {},
     "output_type": "execute_result"
    }
   ],
   "source": [
    "from lsst.pipe.tasks.transformMeasurement import SrcTransformTask, RunTransformConfig\n",
    "cfg = RunTransformConfig()\n",
    "cfg.transform.value.copyFields = ['id']\n",
    "trResult = SrcTransformTask.parseAndRun(args=[outputDir, \"--id\", \"visit=1\", \"-c\", \"inputConfigType=processCcd_config\"],\n",
    "                                        config=cfg, doReturnResults=True)\n",
    "len(trResult.resultList[0].result)"
   ]
  },
  {
   "cell_type": "markdown",
   "metadata": {},
   "source": [
    "Note that we end up with the same number of sources, but the schema is much abbreviated: we have the `id` field we asked for, the flags relating to the `GaussianCentroid` algorithm, and the _transformed_ position (ie, instead of `x`, `y`, we have `ra`, `dec`):"
   ]
  },
  {
   "cell_type": "code",
   "execution_count": 7,
   "metadata": {
    "collapsed": false,
    "scrolled": true
   },
   "outputs": [
    {
     "data": {
      "text/plain": [
       "('base_GaussianCentroid_dec',\n",
       " 'base_GaussianCentroid_flag',\n",
       " 'base_GaussianCentroid_flag_noPeak',\n",
       " 'base_GaussianCentroid_ra',\n",
       " 'id')"
      ]
     },
     "execution_count": 7,
     "metadata": {},
     "output_type": "execute_result"
    }
   ],
   "source": [
    "trResult.resultList[0].result.getSchema().getNames()"
   ]
  },
  {
   "cell_type": "markdown",
   "metadata": {},
   "source": [
    "The position calculated by transforming the `GaussianCentroid` position should correspond to the position recorded in the original source record. Let's check:"
   ]
  },
  {
   "cell_type": "code",
   "execution_count": 8,
   "metadata": {
    "collapsed": false
   },
   "outputs": [
    {
     "name": "stdout",
     "output_type": "stream",
     "text": [
      "Original position: IcrsCoord(79.0833925, -9.2650917)\n",
      "Transformation result: IcrsCoord(79.0833925, -9.2650917)\n"
     ]
    }
   ],
   "source": [
    "from lsst.afw.table import CoordKey\n",
    "trCoordKey = CoordKey(trResult.resultList[0].result.getSchema()[\"base_GaussianCentroid\"])\n",
    "print \"Original position:\", measResult.resultList[0].result.sources[0].getCoord()\n",
    "print \"Transformation result:\", trCoordKey.get(trResult.resultList[0].result[0])"
   ]
  },
  {
   "cell_type": "markdown",
   "metadata": {},
   "source": [
    "Don't forget to clean up the working directory."
   ]
  },
  {
   "cell_type": "code",
   "execution_count": 9,
   "metadata": {
    "collapsed": true
   },
   "outputs": [],
   "source": [
    "import shutil\n",
    "shutil.rmtree(outputDir)"
   ]
  },
  {
   "cell_type": "markdown",
   "metadata": {},
   "source": [
    "Note that similar transformation tasks are available for `forced_src` (`transformForcedSrcMeasurement.py`) and sources measured on coadds (`transformCoaddMeasurement.py`). Defining similar transformations for other Butler dataset types is easy following the examples in the [code](https://github.com/lsst/pipe_tasks/blob/master/python/lsst/pipe/tasks/transformMeasurement.py#L272)): in most cases, it's just a matter of providing a few [standard attributes](https://github.com/lsst/pipe_tasks/blob/master/python/lsst/pipe/tasks/transformMeasurement.py#L196)."
   ]
  }
 ],
 "metadata": {
  "kernelspec": {
   "display_name": "Python 2",
   "language": "python",
   "name": "python2"
  },
  "language_info": {
   "codemirror_mode": {
    "name": "ipython",
    "version": 2
   },
   "file_extension": ".py",
   "mimetype": "text/x-python",
   "name": "python",
   "nbconvert_exporter": "python",
   "pygments_lexer": "ipython2",
   "version": "2.7.10"
  }
 },
 "nbformat": 4,
 "nbformat_minor": 0
}
