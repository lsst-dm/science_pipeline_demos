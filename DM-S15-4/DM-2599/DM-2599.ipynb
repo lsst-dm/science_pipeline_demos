{
 "cells": [
  {
   "cell_type": "markdown",
   "metadata": {},
   "source": [
    "#afw.Image.ExposureF('file.fits.fz[i]') returns the image in 'file.fits.fz[1]'\n",
    "\n",
    "* [DM-2599](https://jira.lsstcorp.org/browse/DM-2599), John Swinbank, 3 SPs.\n",
    "\n",
    "Issue description:\n",
    "\n",
    "> It seems that afwImage.ExposureF ignores the extension number when this is passed on as part of the filename and uses the image in extension number 1. This is not the case with afwImage.MaskedImageF which correctly uses the input extension number passed in the same way.\n",
    "> The problem has been checked on OSX Yosemite 10.10.3 with \n",
    "> the is illustrated in the following code https://gist.github.com/anonymous/d10c4a79d94c1393a493\n",
    "> which also requires the following image in the working directory:\n",
    "> http://www.astro.washington.edu/users/krughoff/data/c4d_130830_040651_ooi_g_d1.fits.fz\n",
    " \n",
    "This notebook has been checked to run against the release tagged `w_2015_26`."
   ]
  },
  {
   "cell_type": "markdown",
   "metadata": {},
   "source": [
    "Note that at time of writing the data file referred to in the issue description (`c4d_...fits.fz`) was available at the location mentioned and is used in the examples below. However, it's quite big (~300 MB) and is not included with this notebook. "
   ]
  },
  {
   "cell_type": "markdown",
   "metadata": {},
   "source": [
    "The issue here is broader than the description above leads one to suppose. In fact, this is a confusing result of our attempt to shoe-horn a rich data model into the FITS format.\n",
    "\n",
    "Both masked images (`lsst.afw.image.MaskedImageF`, etc) and exposures (`lsst.afw.image.ExposureF`, etc) provide an image with associated mask and variance planes. When serialized to FITS, they are stored as successive extensions in a multi-extension FITS file (MEF). See [LSST Doxygen](https://lsst-web.ncsa.illinois.edu/doxygen/x_masterDoxyDoc/afw_sec_image_i_o.html) for details.\n",
    "\n",
    "This works well enough when the code is simply used to re-ingest an image which has been produced by the LSST stack. However, when the user tries to load a arbitrary multi-extension FITS file using our code, the unexpected can happen. For example, it's easy to end up with \"image\" N+2 in fact be the variance of image N:"
   ]
  },
  {
   "cell_type": "code",
   "execution_count": 1,
   "metadata": {
    "collapsed": false
   },
   "outputs": [],
   "source": [
    "import lsst.afw.image as afwImage\n",
    "im1 = afwImage.MaskedImageF(\"c4d_130830_040651_ooi_g_d1.fits.fz[1]\")\n",
    "im3 = afwImage.MaskedImageF(\"c4d_130830_040651_ooi_g_d1.fits.fz[3]\")\n",
    "assert(im1.get(0,0)[2] == im3.get(0,0)[0])"
   ]
  },
  {
   "cell_type": "markdown",
   "metadata": {},
   "source": [
    "In fact, as [Jim Bosch points out](https://jira.lsstcorp.org/browse/DM-2599?focusedCommentId=34654&page=com.atlassian.jira.plugin.system.issuetabpanels:comment-tabpanel#comment-34654), the Exposure data model is complex, and potentially even more confusing things than the above can happen.\n",
    "\n",
    "Defining new or more comprehensive data models is out of scope for this work. Rather, our ultimate aim here is to help the user by providing appropriate warnings or throwing errors whenever they are doing something that will likely result in incorrect or confusing results.\n",
    "\n",
    "The starting point for this was [suggested by Simon Krughoff](https://jira.lsstcorp.org/browse/DM-2599?focusedCommentId=34658&page=com.atlassian.jira.plugin.system.issuetabpanels:comment-tabpanel#comment-34658), but there are a bunch of corner cases which are extensively covered in the [unit tests](https://github.com/lsst/afw/blob/master/tests/maskedImageIO.py#L191). Specifically, we attempt to make this as safe as possible by handling the following situations. Note that Exposures always set `needAllHdus` to `false`.\n",
    "\n",
    "* If `needAllHdus` is `true`:\n",
    "  * If the user has specified a non-default HDU, we throw.\n",
    "  * If the user has not specified an HDU (or has specified the default):\n",
    "    * If any of the image, mask or variance is unreadable, we throw.\n",
    "    * Otherwise, return the MaskedImage with image/mask/variance as expected.\n",
    "* If `needAllHdus` is `false`:\n",
    "  * If the user has specified a non-default HDU:\n",
    "    * If the user specified HDU is unreadable, we throw.\n",
    "    * Otherwise, we return the contents of that HDU as the image and default (=empty) mask & variance.\n",
    "  * If the user has not specified an HDU, or has specified one equal to the default:\n",
    "    * If the default HDU is unreadable, we throw.\n",
    "    * Otherwise, we attempt to read both mask and variance from the FITS file, and return them together with the image. If one or both are unreadable, we fall back to an empty default for the missing data and return the remainder.\n",
    "\n",
    "Further: when we write data to a MEF, we add an `EXTTYPE` header to indicate the type of data being written (`IMAGE`, `MASK` or `VARIANCE`). This header is checked when the data is read, and an error thrown if the data being read is of the wrong type. However, it was decided that it was not possible simply to throw an error if the header is missing: the header as not been consistently added in all past versions of the code, and it would cause too much backwards incompatibility. However, to help the user, we log warnings if the expected header isn't found."
   ]
  },
  {
   "cell_type": "markdown",
   "metadata": {},
   "source": [
    "For the purposes of this demo, we're going to want to look at log output from the LSST stack. Unfortunately, there's not an obvious way to cleanly include this in an IPython notebook (suggestions welcome...). As a workaround, we'll define a context manager as follows:"
   ]
  },
  {
   "cell_type": "code",
   "execution_count": 2,
   "metadata": {
    "collapsed": true
   },
   "outputs": [],
   "source": [
    "from __future__ import print_function\n",
    "from contextlib import contextmanager\n",
    "from tempfile import NamedTemporaryFile\n",
    "import lsst.pex.logging as logging\n",
    "\n",
    "@contextmanager\n",
    "def capture_log():\n",
    "    tf = NamedTemporaryFile()\n",
    "    root = logging.getDefaultLog()\n",
    "    root.addDestination(logging.FileDestination(tf.name, logging.BriefFormatter()))\n",
    "    yield\n",
    "    print(tf.read())"
   ]
  },
  {
   "cell_type": "markdown",
   "metadata": {},
   "source": [
    "Going back to the original FITS file which caused the problem, what does this mean in practice? Well, if we load a MaskedImage without specifying an HDU, we are in the final regime in the list above: we attempt to read three successive extensions, starting at the default (first) and providing empty values if the data cannot be read. Furthermore, we log messages if the `EXTTYPE` header is not found."
   ]
  },
  {
   "cell_type": "code",
   "execution_count": 3,
   "metadata": {
    "collapsed": false
   },
   "outputs": [
    {
     "name": "stdout",
     "output_type": "stream",
     "text": [
      "afw.image.MaskedImage WARNING: Expected extension type not found: IMAGE\n",
      "afw.image.MaskedImage WARNING: Mask unreadable; using default\n",
      "afw.image.MaskedImage WARNING: Expected extension type not found: VARIANCE\n",
      "\n"
     ]
    },
    {
     "data": {
      "text/plain": [
       "(97.41546630859375, 0, 80.07608795166016)"
      ]
     },
     "execution_count": 3,
     "metadata": {},
     "output_type": "execute_result"
    }
   ],
   "source": [
    "with capture_log():\n",
    "    im = afwImage.MaskedImageF(\"c4d_130830_040651_ooi_g_d1.fits.fz\")\n",
    "im.get(0,0) # Print image, mask, variance at given pixel as tuple"
   ]
  },
  {
   "cell_type": "markdown",
   "metadata": {},
   "source": [
    "If we specify a particular extension, then (as above) \"we return the contents of that HDU as the image and default (=empty) mask & variance\". Plus we'll log a warning if that HDU doesn't an appropriate `EXTTYPE`."
   ]
  },
  {
   "cell_type": "code",
   "execution_count": 4,
   "metadata": {
    "collapsed": false
   },
   "outputs": [
    {
     "name": "stdout",
     "output_type": "stream",
     "text": [
      "afw.image.MaskedImage WARNING: Expected extension type not found: IMAGE\n",
      "\n"
     ]
    },
    {
     "data": {
      "text/plain": [
       "(85.97016906738281, 0, 0.0)"
      ]
     },
     "execution_count": 4,
     "metadata": {},
     "output_type": "execute_result"
    }
   ],
   "source": [
    "with capture_log():\n",
    "    im = afwImage.MaskedImageF(\"c4d_130830_040651_ooi_g_d1.fits.fz[2]\")\n",
    "im.get(0,0)"
   ]
  },
  {
   "cell_type": "markdown",
   "metadata": {},
   "source": [
    "Note that we got default (zero) values for both the mask and the variance above.\n",
    "\n",
    "What about the cases where we throw exceptions? We'll need to jump through some hoops to create an appropriate image first."
   ]
  },
  {
   "cell_type": "code",
   "execution_count": 5,
   "metadata": {
    "collapsed": false
   },
   "outputs": [],
   "source": [
    "import os\n",
    "import pyfits\n",
    "import numpy\n",
    "import shutil\n",
    "from tempfile import mkdtemp\n",
    "import lsst.afw.geom as afwGeom\n",
    "\n",
    "@contextmanager\n",
    "def tempfits():\n",
    "    hdus = pyfits.HDUList([pyfits.PrimaryHDU(numpy.array([[1]])),\n",
    "                       pyfits.hdu.ImageHDU(None),\n",
    "                       pyfits.hdu.ImageHDU(numpy.array([[2]]))])\n",
    "    tempdir = mkdtemp()\n",
    "    filename = os.path.join(tempdir, \"test.fits\")\n",
    "    hdus.writeto(filename)\n",
    "    try:\n",
    "        yield filename\n",
    "    finally:\n",
    "        shutil.rmtree(tempdir, ignore_errors=True)"
   ]
  },
  {
   "cell_type": "markdown",
   "metadata": {},
   "source": [
    "The above will generate a 3 extension FITS file, with the second extension being unreadable for our purposes. Let's consider an attempt to load an image from the default HDU:"
   ]
  },
  {
   "cell_type": "code",
   "execution_count": 6,
   "metadata": {
    "collapsed": false
   },
   "outputs": [
    {
     "name": "stdout",
     "output_type": "stream",
     "text": [
      "afw.image.MaskedImage WARNING: Expected extension type not found: IMAGE\n",
      "\n"
     ]
    },
    {
     "data": {
      "text/plain": [
       "(1.0, 0, 0.0)"
      ]
     },
     "execution_count": 6,
     "metadata": {},
     "output_type": "execute_result"
    }
   ],
   "source": [
    "needAllHdus = False\n",
    "\n",
    "with tempfits() as filename, capture_log():\n",
    "    im = afwImage.MaskedImageF(filename, None, afwGeom.Box2I(), afwImage.PARENT, False, needAllHdus)\n",
    "im.get(0,0)"
   ]
  },
  {
   "cell_type": "markdown",
   "metadata": {},
   "source": [
    "So we get the image, log a warning, and default values for mask & variance (as above).\n",
    "\n",
    "What about trying to load the unreadable extension as an image? That should throw..."
   ]
  },
  {
   "cell_type": "code",
   "execution_count": 7,
   "metadata": {
    "collapsed": false
   },
   "outputs": [
    {
     "ename": "FitsError",
     "evalue": "\n  File \"src/fits.cc\", line 999, in void lsst::afw::fits::Fits::readImageImpl(int, T *, long *, long *, long *) [T = unsigned char]\n    cfitsio error (/var/folders/jp/lqz3n0m17nqft7bwtw3b8n380000gp/T/tmpJrPNF4/test.fits[1]): illegal number of dimensions (320) : Reading image {0}\nlsst::afw::fits::FitsError: 'cfitsio error (/var/folders/jp/lqz3n0m17nqft7bwtw3b8n380000gp/T/tmpJrPNF4/test.fits[1]): illegal number of dimensions (320) : Reading image'\n",
     "output_type": "error",
     "traceback": [
      "\u001b[0;31m---------------------------------------------------------------------------\u001b[0m",
      "\u001b[0;31mFitsError\u001b[0m                                 Traceback (most recent call last)",
      "\u001b[0;32m<ipython-input-7-7ccb2077f173>\u001b[0m in \u001b[0;36m<module>\u001b[0;34m()\u001b[0m\n\u001b[1;32m      2\u001b[0m \u001b[0;34m\u001b[0m\u001b[0m\n\u001b[1;32m      3\u001b[0m \u001b[0;32mwith\u001b[0m \u001b[0mtempfits\u001b[0m\u001b[0;34m(\u001b[0m\u001b[0;34m)\u001b[0m \u001b[0;32mas\u001b[0m \u001b[0mfilename\u001b[0m\u001b[0;34m,\u001b[0m \u001b[0mcapture_log\u001b[0m\u001b[0;34m(\u001b[0m\u001b[0;34m)\u001b[0m\u001b[0;34m:\u001b[0m\u001b[0;34m\u001b[0m\u001b[0m\n\u001b[0;32m----> 4\u001b[0;31m     \u001b[0mim\u001b[0m \u001b[0;34m=\u001b[0m \u001b[0mafwImage\u001b[0m\u001b[0;34m.\u001b[0m\u001b[0mMaskedImageF\u001b[0m\u001b[0;34m(\u001b[0m\u001b[0mfilename\u001b[0m\u001b[0;34m+\u001b[0m\u001b[0;34m\"[1]\"\u001b[0m\u001b[0;34m,\u001b[0m \u001b[0mNone\u001b[0m\u001b[0;34m,\u001b[0m \u001b[0mafwGeom\u001b[0m\u001b[0;34m.\u001b[0m\u001b[0mBox2I\u001b[0m\u001b[0;34m(\u001b[0m\u001b[0;34m)\u001b[0m\u001b[0;34m,\u001b[0m \u001b[0mafwImage\u001b[0m\u001b[0;34m.\u001b[0m\u001b[0mPARENT\u001b[0m\u001b[0;34m,\u001b[0m \u001b[0mFalse\u001b[0m\u001b[0;34m,\u001b[0m \u001b[0mneedAllHdus\u001b[0m\u001b[0;34m)\u001b[0m\u001b[0;34m\u001b[0m\u001b[0m\n\u001b[0m",
      "\u001b[0;32m/Users/jds/Projects/Astronomy/LSST/stack/DarwinX86/afw/10.1-25-gc9acaf8/python/lsst/afw/image/imageLib.pyc\u001b[0m in \u001b[0;36m__init__\u001b[0;34m(self, *args)\u001b[0m\n\u001b[1;32m   6987\u001b[0m         \u001b[0m__init__\u001b[0m\u001b[0;34m(\u001b[0m\u001b[0mlsst\u001b[0m\u001b[0;34m:\u001b[0m\u001b[0;34m:\u001b[0m\u001b[0mafw\u001b[0m\u001b[0;34m:\u001b[0m\u001b[0;34m:\u001b[0m\u001b[0mimage\u001b[0m\u001b[0;34m:\u001b[0m\u001b[0;34m:\u001b[0m\u001b[0mMaskedImage\u001b[0m\u001b[0;34m<\u001b[0m\u001b[0;34m(\u001b[0m\u001b[0mfloat\u001b[0m\u001b[0;34m,\u001b[0m\u001b[0mlsst\u001b[0m\u001b[0;34m:\u001b[0m\u001b[0;34m:\u001b[0m\u001b[0mafw\u001b[0m\u001b[0;34m:\u001b[0m\u001b[0;34m:\u001b[0m\u001b[0mimage\u001b[0m\u001b[0;34m:\u001b[0m\u001b[0;34m:\u001b[0m\u001b[0mMaskPixel\u001b[0m\u001b[0;34m,\u001b[0m\u001b[0mlsst\u001b[0m\u001b[0;34m:\u001b[0m\u001b[0;34m:\u001b[0m\u001b[0mafw\u001b[0m\u001b[0;34m:\u001b[0m\u001b[0;34m:\u001b[0m\u001b[0mimage\u001b[0m\u001b[0;34m:\u001b[0m\u001b[0;34m:\u001b[0m\u001b[0mVariancePixel\u001b[0m\u001b[0;34m)\u001b[0m\u001b[0;34m>\u001b[0m \u001b[0mself\u001b[0m\u001b[0;34m,\u001b[0m \u001b[0mMaskedImageF\u001b[0m \u001b[0mrhs\u001b[0m\u001b[0;34m,\u001b[0m \u001b[0mBox2I\u001b[0m \u001b[0mbbox\u001b[0m\u001b[0;34m)\u001b[0m \u001b[0;34m-\u001b[0m\u001b[0;34m>\u001b[0m \u001b[0mMaskedImageF\u001b[0m\u001b[0;34m\u001b[0m\u001b[0m\n\u001b[1;32m   6988\u001b[0m         \"\"\"\n\u001b[0;32m-> 6989\u001b[0;31m         \u001b[0mthis\u001b[0m \u001b[0;34m=\u001b[0m \u001b[0m_imageLib\u001b[0m\u001b[0;34m.\u001b[0m\u001b[0mnew_MaskedImageF\u001b[0m\u001b[0;34m(\u001b[0m\u001b[0;34m*\u001b[0m\u001b[0margs\u001b[0m\u001b[0;34m)\u001b[0m\u001b[0;34m\u001b[0m\u001b[0m\n\u001b[0m\u001b[1;32m   6990\u001b[0m         \u001b[0;32mtry\u001b[0m\u001b[0;34m:\u001b[0m \u001b[0mself\u001b[0m\u001b[0;34m.\u001b[0m\u001b[0mthis\u001b[0m\u001b[0;34m.\u001b[0m\u001b[0mappend\u001b[0m\u001b[0;34m(\u001b[0m\u001b[0mthis\u001b[0m\u001b[0;34m)\u001b[0m\u001b[0;34m\u001b[0m\u001b[0m\n\u001b[1;32m   6991\u001b[0m         \u001b[0;32mexcept\u001b[0m\u001b[0;34m:\u001b[0m \u001b[0mself\u001b[0m\u001b[0;34m.\u001b[0m\u001b[0mthis\u001b[0m \u001b[0;34m=\u001b[0m \u001b[0mthis\u001b[0m\u001b[0;34m\u001b[0m\u001b[0m\n",
      "\u001b[0;31mFitsError\u001b[0m: \n  File \"src/fits.cc\", line 999, in void lsst::afw::fits::Fits::readImageImpl(int, T *, long *, long *, long *) [T = unsigned char]\n    cfitsio error (/var/folders/jp/lqz3n0m17nqft7bwtw3b8n380000gp/T/tmpJrPNF4/test.fits[1]): illegal number of dimensions (320) : Reading image {0}\nlsst::afw::fits::FitsError: 'cfitsio error (/var/folders/jp/lqz3n0m17nqft7bwtw3b8n380000gp/T/tmpJrPNF4/test.fits[1]): illegal number of dimensions (320) : Reading image'\n"
     ]
    }
   ],
   "source": [
    "needAllHdus = False\n",
    "\n",
    "with tempfits() as filename, capture_log():\n",
    "    im = afwImage.MaskedImageF(filename+\"[1]\", None, afwGeom.Box2I(), afwImage.PARENT, False, needAllHdus)"
   ]
  },
  {
   "cell_type": "markdown",
   "metadata": {},
   "source": [
    "...and it does.\n",
    "\n",
    "The [unit tests](https://github.com/lsst/afw/blob/master/tests/maskedImageIO.py#L191) use a variation on that image construction code to demonstrate that we handle every case itemized in the list. I think demonstrating every case here is not a useful exercise."
   ]
  }
 ],
 "metadata": {
  "kernelspec": {
   "display_name": "Python 2",
   "language": "python",
   "name": "python2"
  },
  "language_info": {
   "codemirror_mode": {
    "name": "ipython",
    "version": 2
   },
   "file_extension": ".py",
   "mimetype": "text/x-python",
   "name": "python",
   "nbconvert_exporter": "python",
   "pygments_lexer": "ipython2",
   "version": "2.7.10"
  }
 },
 "nbformat": 4,
 "nbformat_minor": 0
}
