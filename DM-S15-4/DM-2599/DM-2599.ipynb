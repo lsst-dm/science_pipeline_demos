{
 "cells": [
  {
   "cell_type": "markdown",
   "metadata": {},
   "source": [
    "#afw.Image.ExposureF('file.fits.fz[i]') returns the image in 'file.fits.fz[1]'\n",
    "\n",
    "* [DM-2599](https://jira.lsstcorp.org/browse/DM-2599), John Swinbank, 3 SPs.\n",
    "\n",
    "Issue description:\n",
    "\n",
    "> It seems that afwImage.ExposureF ignores the extension number when this is passed on as part of the filename and uses the image in extension number 1. This is not the case with afwImage.MaskedImageF which correctly uses the input extension number passed in the same way.\n",
    "> The problem has been checked on OSX Yosemite 10.10.3 with \n",
    "> the is illustrated in the following code https://gist.github.com/anonymous/d10c4a79d94c1393a493\n",
    "> which also requires the following image in the working directory:\n",
    "> http://www.astro.washington.edu/users/krughoff/data/c4d_130830_040651_ooi_g_d1.fits.fz\n",
    " \n",
    "This notebook has been checked to run against the release tagged `w_2015_26`."
   ]
  },
  {
   "cell_type": "markdown",
   "metadata": {},
   "source": [
    "The issue here is broader than the description above leads one to suppose. In fact, this is a confusing result of our attempt to shoe-horn a rich data model into the FITS format.\n",
    "\n",
    "Both masked images (`lsst.afw.image.MaskedImageF`, etc) and exposures (`lsst.afw.image.ExposureF`, etc) provide an image with associated mask and variance planes. When serialized to FITS, they are stored as successive extensions in a multi-extension FITS file. See [LSST Doxygen](https://lsst-web.ncsa.illinois.edu/doxygen/x_masterDoxyDoc/afw_sec_image_i_o.html) for details. "
   ]
  },
  {
   "cell_type": "markdown",
   "metadata": {},
   "source": [
    "For the purposes of this demo, we're going to want to look at log output from the LSST stack. Unfortunately, there's not an obvious way to cleanly include this in an IPython notebook (suggestions welcome...). As a workaround, we'll define a context manager as follows:"
   ]
  },
  {
   "cell_type": "code",
   "execution_count": 16,
   "metadata": {
    "collapsed": true
   },
   "outputs": [],
   "source": [
    "from __future__ import print_function\n",
    "from contextlib import contextmanager\n",
    "from tempfile import NamedTemporaryFile\n",
    "import lsst.pex.logging as logging\n",
    "\n",
    "@contextmanager\n",
    "def capture_log():\n",
    "    tf = NamedTemporaryFile()\n",
    "    root = logging.getDefaultLog()\n",
    "    root.addDestination(logging.FileDestination(tf.name, logging.BriefFormatter()))\n",
    "    yield\n",
    "    print(tf.read())"
   ]
  },
  {
   "cell_type": "code",
   "execution_count": 7,
   "metadata": {
    "collapsed": true
   },
   "outputs": [],
   "source": [
    "import lsst.afw.image as afwImage"
   ]
  },
  {
   "cell_type": "code",
   "execution_count": 17,
   "metadata": {
    "collapsed": false
   },
   "outputs": [
    {
     "name": "stdout",
     "output_type": "stream",
     "text": [
      "afw.image.MaskedImage WARNING: Expected extension type not found: IMAGE\n",
      "\n"
     ]
    }
   ],
   "source": [
    "with capture_log():\n",
    "    im = afwImage.MaskedImageF(\"c4d_130830_040651_ooi_g_d1.fits.fz[2]\")"
   ]
  }
 ],
 "metadata": {
  "kernelspec": {
   "display_name": "Python 2",
   "language": "python",
   "name": "python2"
  },
  "language_info": {
   "codemirror_mode": {
    "name": "ipython",
    "version": 2
   },
   "file_extension": ".py",
   "mimetype": "text/x-python",
   "name": "python",
   "nbconvert_exporter": "python",
   "pygments_lexer": "ipython2",
   "version": "2.7.10"
  }
 },
 "nbformat": 4,
 "nbformat_minor": 0
}
