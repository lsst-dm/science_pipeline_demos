{
 "metadata": {
  "name": "",
  "signature": "sha256:4c149d19bd2e65385f860eb7420b2044dc7a6e8512407259dcd0e5fd73649f71"
 },
 "nbformat": 3,
 "nbformat_minor": 0,
 "worksheets": [
  {
   "cells": [
    {
     "cell_type": "heading",
     "level": 1,
     "metadata": {},
     "source": [
      "ProcessShearTestTask creates SourceCatalog output for a specific measurement Algorithm.  The output will include any of the parameters given to GalSim to create the simulation, such as shear, the original galaxy parameterization, and information about the Psf used to create the convolved galaxy image for measurement.\n",
      "\n",
      "The code to do the measurement was written as as SingleFrameMeasurementTask, which will allow the multi-processing of which the pipeline is capable (that is, a process for each dataId)."
     ]
    },
    {
     "cell_type": "markdown",
     "metadata": {},
     "source": [
      "The measurement task for processing the sims is derived from lsst.obs.great3.processBase. This is base class which Jim wrote, and which handles the butler responsibilities for file-based great3sims/GalSim runs.\n",
      "\n",
      "The addition of the \"psf_library\" and \"psf_index\" fields written into this table are the ones supplied to GalSim, so the same Psf is used by both GalSim and the ProcessShearTestTask when it measures each galaxy created by GalSim"
     ]
    },
    {
     "cell_type": "heading",
     "level": 2,
     "metadata": {},
     "source": [
      ".from lsst.obs.great3.processBase import *\n",
      "\n",
      "class ProcessShearTestConfig(ProcessBaseConfig):\n",
      "    pass\n",
      "\n",
      "class ProcessShearTestTask(ProcessBaseTask):\n",
      "    \"\"\"This subclass obs.great3.ProcessBaseTask is used to call a measurement algorithm,\n",
      "    assumed to be the only algorithm which is not a Centroid algorithm, using as its\n",
      "    sources a GalSim catalog provided by the \"epoch_catalog\" for the dataId\n",
      "    \"\"\"\n",
      "\n",
      "    ConfigClass = ProcessShearTestConfig\n",
      "\n",
      "    _DefaultName = \"processShearTest\"\n",
      "\n",
      "    def __init__(self, **kwds):\n",
      "        ProcessBaseTask.__init__(self, **kwds)\n",
      "        self.psfIndexKey = self.schema.addField(\"psf_index\", type = int,\n",
      "                                                 doc = \"index of psf within library\")\n",
      "        self.psfLibraryKey = self.schema.addField(\"psf_library\", type = int,\n",
      "                                                   doc = \"number of psf_libary_nn.fits\")\n",
      "        self.centroidPlugin = None\n",
      "        self.measPlugin = None\n",
      "        for plugin in self.measurement.plugins.keys():\n",
      "            if plugin.find(\"Centroid\") > 0:\n",
      "                self.centroidPlugin = self.measurement.plugins[plugin]\n",
      "            else:\n",
      "                self.measPlugin = self.measurement.plugins[plugin]\n"
     ]
    },
    {
     "cell_type": "markdown",
     "metadata": {},
     "source": [
      "Great3Sims produces a catalog for each subfield and epoch.  We read this catalog and transfer the values to the SourceCatalog which are required by the measurement task, or later for analysis."
     ]
    },
    {
     "cell_type": "code",
     "collapsed": false,
     "input": [
      "        def buildSourceCatalog(self, imageBBox, dataRef):\n",
      "        \"\"\"Build an empty source catalog, using the provided sim catalog's position to generate\n",
      "        square Footprints and its ID to set that of the source catalog. Also Transfer information\n",
      "        already known about the sources from the GalSim epoch catalog to an afwTable catalog.\n",
      "        The Psf library and index in particular are needed.\n",
      "        \"\"\"\n",
      "        sourceCat = lsst.afw.table.SourceCatalog(self.schema)\n",
      "        sourceCat.getTable().setMetadata(self.algMetadata)\n",
      "        simCat = dataRef.get(\"epoch_catalog\", immediate=True)\n",
      "        xKey = simCat.schema.find('x').key\n",
      "        yKey = simCat.schema.find('y').key\n",
      "        idKey = simCat.schema.find('ID').key\n",
      "        nGals = imageBBox.getWidth() // self.config.galaxyStampSize\n",
      "        assert nGals * self.config.galaxyStampSize == imageBBox.getWidth()\n",
      "        n = imageBBox.getWidth() / nGals\n",
      "        self.dims = lsst.afw.geom.Extent2I(n, n)\n",
      "        offset = lsst.afw.geom.Extent2I(simCat[0][xKey], simCat[0][yKey])\n",
      "        for simRecord in simCat:\n",
      "            sourceRecord = sourceCat.addNew()\n",
      "            sourceRecord.setId(simRecord.get(idKey))\n",
      "            sourceRecord.set(self.psfIndexKey, simRecord.get(\"psf_index\"))\n",
      "            sourceRecord.set(self.psfLibraryKey, simRecord.get(\"psf_library\"))\n",
      "            position = lsst.afw.geom.Point2I(simRecord.get(xKey), simRecord.get(yKey))\n",
      "            bbox = lsst.afw.geom.Box2I(position - offset, self.dims)\n",
      "            footprint = lsst.afw.detection.Footprint(bbox, imageBBox)\n",
      "            peakRecord = footprint.getPeaks().addNew()\n",
      "            peakRecord.setFx(position.getX())\n",
      "            peakRecord.setFy(position.getY())\n",
      "            sourceRecord.setFootprint(footprint)\n",
      "        return sourceCat\n"
     ],
     "language": "python",
     "metadata": {},
     "outputs": []
    },
    {
     "cell_type": "markdown",
     "metadata": {},
     "source": [
      "The image.fits file produced by GalSim is a grid of postage stamps of all of the galaxies created, both convolved with the supplied Psf and with constant shear added.\n",
      "\n",
      "The run() method of the task provides a cutout of each source with the Psf for that object attached, and calls the centroidPlugin and measPlugin (the test plugin in this arrangement).  If a centroid is not required by the measPlugin, it can simply be omitted."
     ]
    },
    {
     "cell_type": "code",
     "collapsed": false,
     "input": [
      "    def run(self, dataRef):\n",
      "        \"\"\"Run a measurement algorithm on the set of sources provided by\n",
      "        a GalSim catalog.  Also run a centroid algorithm if one is provided\n",
      "        This run method has a measurement task (which makes it easier to\n",
      "        setup the plugins and schema, but it does not actually use the measurement\n",
      "        task, instead calling the plugins directly to improve speed and remove\n",
      "        noise replacement.\n",
      "        \"\"\"\n",
      "        exposure = self.buildExposure(dataRef)\n",
      "        sourceCat = self.buildSourceCatalog(exposure.getBBox(lsst.afw.image.PARENT), dataRef)\n",
      "        images_file = dataRef.get(\"image\", immediate=True)\n",
      "        #   the GalSim catalog will provide the number of the psf_library\n",
      "        #   and the index of the hdu with the psf for each source.\n",
      "        for source in sourceCat:\n",
      "            #   Locate the psb_library and get the indexed psf\n",
      "            dataRef.dataId[\"psf_index\"] = source.get(\"psf_index\")\n",
      "            dataRef.dataId[\"psf_library\"] = source.get(\"psf_library\")\n",
      "            psf_file = dataRef.get(\"psf_library\", immediate=True)\n",
      "            data = psf_file.getArray().astype(numpy.float64)\n",
      "            kernel = lsst.afw.math.FixedKernel(lsst.afw.image.ImageD(data))\n",
      "            psf = lsst.meas.algorithms.KernelPsf(kernel)\n",
      "            # Create a bounding box around the galaxy image of self.dims\n",
      "            x = int(source.getFootprint().getCentroid().getX()+1) - (self.dims.getX()/2)\n",
      "            y = int(source.getFootprint().getCentroid().getY()+1) - (self.dims.getY()/2)\n",
      "            bbox = lsst.afw.geom.Box2I(lsst.afw.geom.Point2I(x,y), self.dims)\n",
      "            exp = lsst.afw.image.ExposureF(exposure, bbox)\n",
      "            exp.setPsf(psf)\n",
      "            #  Now do the measurements, calling the measure algorithms to increase speed\n",
      "            try:\n",
      "                if self.centroidPlugin:\n",
      "                    plugin = self.centroidPlugin\n",
      "                    plugin.measure(source, exp)\n",
      "                if self.measPlugin:\n",
      "                    plugin = self.measPlugin\n",
      "                    plugin.measure(source, exp)\n",
      "            except FATAL_EXCEPTIONS:\n",
      "                raise\n",
      "            except MeasurementError as error:\n",
      "                plugin.fail(source, error)\n",
      "            except Exception as error:\n",
      "                self.log.warn(\"Error in %s.measure on record %s: %s\"\n",
      "                              % (plugin.name, source.getId(), error))\n",
      "        dataRef.put(sourceCat, \"src\")\n",
      "\n"
     ],
     "language": "python",
     "metadata": {},
     "outputs": []
    }
   ],
   "metadata": {}
  }
 ]
}